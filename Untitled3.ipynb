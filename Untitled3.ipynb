{
  "nbformat": 4,
  "nbformat_minor": 0,
  "metadata": {
    "colab": {
      "name": "Untitled3.ipynb",
      "provenance": [],
      "authorship_tag": "ABX9TyPSmJ2PJbEyvzk/FBDN48OH",
      "include_colab_link": true
    },
    "kernelspec": {
      "name": "python3",
      "display_name": "Python 3"
    },
    "language_info": {
      "name": "python"
    }
  },
  "cells": [
    {
      "cell_type": "markdown",
      "metadata": {
        "id": "view-in-github",
        "colab_type": "text"
      },
      "source": [
        "<a href=\"https://colab.research.google.com/github/Shannnnnn28/introdution-to-computers/blob/main/Untitled3.ipynb\" target=\"_parent\"><img src=\"https://colab.research.google.com/assets/colab-badge.svg\" alt=\"Open In Colab\"/></a>"
      ]
    },
    {
      "cell_type": "code",
      "execution_count": 2,
      "metadata": {
        "id": "b1RXYEFdLlJv"
      },
      "outputs": [],
      "source": [
        "Player = ['Curry','Green','Wiggins','Looney','Thompson']\n",
        "Fraction = [30,5,22,6,28]"
      ]
    },
    {
      "cell_type": "code",
      "source": [
        "print ((\"金州勇士現在有的球員陣容 =\") , (Player))\n",
        "print ('勇士今天最高的三個得分' , [Fraction[0],Fraction[2],Fraction[4]] , '球員分別為' , [Player[0],Player[2],Player[4]])\n",
        "print ('勇士今天最低的兩個得分' , [Fraction[1],Fraction[3]] , '球員分別為' , [Player[1],Player[3]])\n",
        "print ('勇士今天最高得分為' , Player[0] , '分數為' , max(Fraction),'分')\n",
        "print ('勇士今天最低得分為' , Player[1] , '分數為' , min(Fraction),'分')"
      ],
      "metadata": {
        "colab": {
          "base_uri": "https://localhost:8080/"
        },
        "id": "1xNOid2cMDYD",
        "outputId": "0fabc6a4-8ce6-4805-96c7-7ca463bdee7d"
      },
      "execution_count": 3,
      "outputs": [
        {
          "output_type": "stream",
          "name": "stdout",
          "text": [
            "金州勇士現在有的球員陣容 = ['Curry', 'Green', 'Wiggins', 'Looney', 'Thompson']\n",
            "勇士今天最高的三個得分 [30, 22, 28] 球員分別為 ['Curry', 'Wiggins', 'Thompson']\n",
            "勇士今天最低的兩個得分 [5, 6] 球員分別為 ['Green', 'Looney']\n",
            "勇士今天最高得分為 Curry 分數為 30 分\n",
            "勇士今天最低得分為 Green 分數為 5 分\n"
          ]
        }
      ]
    }
  ]
}